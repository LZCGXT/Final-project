{
 "metadata": {
  "language_info": {
   "codemirror_mode": {
    "name": "ipython",
    "version": 3
   },
   "file_extension": ".py",
   "mimetype": "text/x-python",
   "name": "python",
   "nbconvert_exporter": "python",
   "pygments_lexer": "ipython3",
   "version": "3.8.5"
  },
  "orig_nbformat": 2,
  "kernelspec": {
   "name": "python385jvsc74a57bd0c4fea7bc03de9bd7cf1a74b81dc2129c4d19ec2f8a768fdbee8471e4c26b0f67",
   "display_name": "Python 3.8.5 64-bit ('csi': conda)"
  },
  "metadata": {
   "interpreter": {
    "hash": "c4fea7bc03de9bd7cf1a74b81dc2129c4d19ec2f8a768fdbee8471e4c26b0f67"
   }
  }
 },
 "nbformat": 4,
 "nbformat_minor": 2,
 "cells": [
  {
   "cell_type": "code",
   "execution_count": 2,
   "metadata": {},
   "outputs": [],
   "source": [
    "from preprocess import load_csi, diff_phase_matrix\n",
    "\n",
    "csi_phase, csi_time = load_csi('../3_12_after/down/csi/data_201.csi')\n"
   ]
  },
  {
   "cell_type": "code",
   "execution_count": 4,
   "metadata": {},
   "outputs": [],
   "source": [
    "csi_matrix = diff_phase_matrix(csi_phase, csi_time)"
   ]
  },
  {
   "cell_type": "code",
   "execution_count": 5,
   "metadata": {},
   "outputs": [
    {
     "output_type": "execute_result",
     "data": {
      "text/plain": [
       "(1000, 114, 3)"
      ]
     },
     "metadata": {},
     "execution_count": 5
    }
   ],
   "source": [
    "csi_matrix.shape"
   ]
  },
  {
   "cell_type": "code",
   "execution_count": 13,
   "metadata": {},
   "outputs": [],
   "source": [
    "import matplotlib.pyplot as plt\n",
    "import numpy as np\n",
    "\n",
    "matrix = (csi_matrix + np.pi) / (2*np.pi)\n",
    "#plt.imsave('1.jpeg', matrix)"
   ]
  },
  {
   "cell_type": "code",
   "execution_count": null,
   "metadata": {},
   "outputs": [],
   "source": []
  }
 ]
}